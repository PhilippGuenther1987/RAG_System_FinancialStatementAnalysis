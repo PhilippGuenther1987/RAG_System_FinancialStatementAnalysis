{
  "nbformat": 4,
  "nbformat_minor": 0,
  "metadata": {
    "colab": {
      "provenance": []
    },
    "kernelspec": {
      "name": "python3",
      "display_name": "Python 3"
    },
    "language_info": {
      "name": "python"
    }
  },
  "cells": [
    {
      "cell_type": "markdown",
      "source": [
        "# **PDF Laden**"
      ],
      "metadata": {
        "id": "70NgKY0jsgvO"
      }
    },
    {
      "cell_type": "code",
      "source": [
        "from google.colab import drive\n",
        "from langchain.document_loaders import PyPDFLoader\n",
        "\n",
        "def pdf_loading():\n",
        "  drive.mount('/content/drive')\n",
        "  file_path = '/content/drive/MyDrive/yourfile.pdf'\n",
        "  pdf_loader = PyPDFLoader(file_path) # pdf_loader Objekt erstellt\n",
        "  return pdf_loader\n",
        "\n",
        "pdf_loader = pdf_loading()"
      ],
      "metadata": {
        "colab": {
          "base_uri": "https://localhost:8080/"
        },
        "id": "EnI_iCL3sbKW",
        "outputId": "31e69456-4242-4534-e2d1-9cf3f621f8cf"
      },
      "execution_count": null,
      "outputs": [
        {
          "output_type": "stream",
          "name": "stdout",
          "text": [
            "Drive already mounted at /content/drive; to attempt to forcibly remount, call drive.mount(\"/content/drive\", force_remount=True).\n"
          ]
        }
      ]
    },
    {
      "cell_type": "markdown",
      "source": [
        "# **PDF tokenisieren und in Chunks (Textabschnitte) aufteilen**"
      ],
      "metadata": {
        "id": "CZklxkHBtGNX"
      }
    },
    {
      "cell_type": "code",
      "source": [
        "from transformers import AutoTokenizer\n",
        "from langchain.text_splitter import RecursiveCharacterTextSplitter\n",
        "\n",
        "def tokenizing_chunking(pdf_loader):\n",
        "  gte_tokenizer = AutoTokenizer.from_pretrained('thenlper/gte-small') # Tokenizer laden\n",
        "  text_splitter = RecursiveCharacterTextSplitter.from_huggingface_tokenizer( # Text-Splitting erstellen und konfigurieren\n",
        "    tokenizer=gte_tokenizer,\n",
        "    chunk_size=400, # Chunkgröße auf 400 Tokens beschränkt\n",
        "    chunk_overlap=20 # Optional: Ein Überschneidungsbereich von 20 Tokens\n",
        "  )\n",
        "  chunks = pdf_loader.load_and_split(text_splitter)\n",
        "  return chunks\n",
        "\n",
        "chunks = tokenizing_chunking(pdf_loader)"
      ],
      "metadata": {
        "id": "-3D4gml6tAuY"
      },
      "execution_count": null,
      "outputs": []
    },
    {
      "cell_type": "code",
      "source": [
        "print(type(chunks)) # Chunks sind in Liste\n",
        "print(len(chunks))"
      ],
      "metadata": {
        "colab": {
          "base_uri": "https://localhost:8080/"
        },
        "id": "wuHYrduLtUMv",
        "outputId": "37764852-f348-4af5-e20c-272c68c34170"
      },
      "execution_count": null,
      "outputs": [
        {
          "output_type": "stream",
          "name": "stdout",
          "text": [
            "<class 'list'>\n",
            "402\n"
          ]
        }
      ]
    },
    {
      "cell_type": "code",
      "source": [
        "# Beispiel\n",
        "chunks[0]"
      ],
      "metadata": {
        "colab": {
          "base_uri": "https://localhost:8080/"
        },
        "id": "L8DOOwm7t2t3",
        "outputId": "c186130a-0ec5-4549-b4e9-c9ac5317d6d5"
      },
      "execution_count": null,
      "outputs": [
        {
          "output_type": "execute_result",
          "data": {
            "text/plain": [
              "Document(metadata={'source': '/content/drive/MyDrive/Meine Dateien/tsl-10k-report.pdf', 'page': 0}, page_content='UNITED\\tSTATES\\nSECURITIES\\tAND\\tEXCHANGE\\tCOMMISSION\\nWashington,\\tD.C.\\t20549\\nFORM\\t\\n10-K\\n(Mark\\tOne)\\nx\\nANNUAL\\tREPORT\\tPURSUANT\\tTO\\tSECTION\\t13\\tOR\\t15(d)\\tOF\\tTHE\\tSECURITIES\\tEXCHANGE\\tACT\\tOF\\t1934\\nFor\\tthe\\tfiscal\\tyear\\tended\\t\\nDecember\\t31\\n,\\t2023\\nOR\\no\\nTRANSITION\\tREPORT\\tPURSUANT\\tTO\\tSECTION\\t13\\tOR\\t15(d)\\tOF\\tTHE\\tSECURITIES\\tEXCHANGE\\tACT\\tOF\\t1934\\nFor\\tthe\\ttransition\\tperiod\\tfrom\\t_________\\tto\\t_________\\nCommission\\tFile\\tNumber:\\t\\n001-34756\\nTesla,\\tInc.\\n(Exact\\tname\\tof\\tregistrant\\tas\\tspecified\\tin\\tits\\tcharter)\\nDelaware\\n91-2197729\\n(State\\tor\\tother\\tjurisdiction\\tof\\nincorporation\\tor\\torganization)\\n(I.R.S.\\tEmployer\\nIdentification\\tNo.)\\n1\\tTesla\\tRoad\\nAustin\\n,\\t\\nTexas\\n78725\\n(Address\\tof\\tprincipal\\texecutive\\toffices)\\n(Zip\\tCode)\\n(\\n512\\n)\\t\\n516-8177\\n(Registrant’s\\ttelephone\\tnumber,\\tincluding\\tarea\\tcode)\\nSecurities\\tregistered\\tpursuant\\tto\\tSection\\t12(b)\\tof\\tthe\\tAct:\\nTitle\\tof\\teach\\tclass\\nTrading\\tSymbol(s)\\nName\\tof\\teach\\texchange\\ton\\twhich\\tregistered\\nCommon\\tstock\\nTSLA')"
            ]
          },
          "metadata": {},
          "execution_count": 108
        }
      ]
    },
    {
      "cell_type": "markdown",
      "source": [
        "# **Embedding Modell laden und Embeddings erstellen**"
      ],
      "metadata": {
        "id": "tPIsKn_5uVwn"
      }
    },
    {
      "cell_type": "code",
      "source": [
        "# Embedding Modell\n",
        "model_name = 'thenlper/gte-small'\n",
        "tokenizer = AutoTokenizer.from_pretrained(model_name)\n",
        "model = AutoModel.from_pretrained(model_name)"
      ],
      "metadata": {
        "id": "0wZzsMO-uFF9"
      },
      "execution_count": null,
      "outputs": []
    },
    {
      "cell_type": "code",
      "source": [
        "def calculate_embeddings(chunks, tokenizer, model):\n",
        "  inputs = tokenizer(chunks, return_tensors='pt')\n",
        "  with torch.no_grad():  # Deaktiviert das Gradient Tracking\n",
        "    embeddings = model(**inputs)\n",
        "    embedding_dimension = embeddings.last_hidden_state.shape[-1]\n",
        "    embedding = embeddings.last_hidden_state.mean(dim=1)\n",
        "  return embedding"
      ],
      "metadata": {
        "id": "-2Tp8Ar6uduM"
      },
      "execution_count": null,
      "outputs": []
    },
    {
      "cell_type": "markdown",
      "source": [
        "# **Vektordatenbank erstellen und Embeddings für Chunks einfügen**"
      ],
      "metadata": {
        "id": "TjgnU7EBvMjc"
      }
    },
    {
      "cell_type": "code",
      "source": [
        "import pinecone\n",
        "from langchain.vectorstores import Pinecone\n",
        "from pinecone.grpc import PineconeGRPC as Pinecone\n",
        "from pinecone import ServerlessSpec"
      ],
      "metadata": {
        "id": "SUyFMZKWuqKI"
      },
      "execution_count": null,
      "outputs": []
    },
    {
      "cell_type": "code",
      "source": [
        "# Vektor Datenabnk Index erstellen\n",
        "api_key = 'Your-API-Key' # Pinecone API-Schlüssel\n",
        "index_name = 'tsl'\n",
        "\n",
        "def create_vector_index(api_key, index_name):\n",
        "    pc = Pinecone(api_key=api_key)  # Pinecone-Objekt erstellen\n",
        "    pc.create_index(\n",
        "        name=index_name,\n",
        "        dimension=384,\n",
        "        metric='cosine',\n",
        "        spec=ServerlessSpec(\n",
        "            cloud=\"aws\",\n",
        "            region=\"us-east-1\"\n",
        "        )\n",
        "    )\n",
        "    print(f\"Index '{index_name}' wurde erfolgreich erstellt.\")\n",
        "    return pc\n",
        "\n",
        "pc = create_vector_index(api_key, index_name)"
      ],
      "metadata": {
        "colab": {
          "base_uri": "https://localhost:8080/"
        },
        "id": "IC1vm-M5vTJG",
        "outputId": "42d442f6-2483-409e-d5b8-0badf94b9017"
      },
      "execution_count": null,
      "outputs": [
        {
          "output_type": "stream",
          "name": "stdout",
          "text": [
            "Index 'tsl' wurde erfolgreich erstellt.\n"
          ]
        }
      ]
    },
    {
      "cell_type": "code",
      "source": [
        "# Embeddings für Chunks erstellen\n",
        "def get_embeddings_from_chunks(chunks, tokenizer, model):\n",
        "  embeddings_list = []\n",
        "  for chunk in chunks:\n",
        "        embedding = calculate_embeddings(chunk.page_content, tokenizer, model) # Bereits definierte Embedding-Funktion\n",
        "        embeddings_list.append(embedding)\n",
        "  return torch.cat(embeddings_list, dim=0).cpu().numpy()  # Alle Embeddings zu einem einzigen Tensor verbinden und in NumPy Array umwandeln\n",
        "\n",
        "embeddings = get_embeddings_from_chunks(chunks, tokenizer, model) # Funktion aufrufen\n",
        "print(f\"Berechnete Embeddings für {len(embeddings)} Chunks.\")"
      ],
      "metadata": {
        "colab": {
          "base_uri": "https://localhost:8080/"
        },
        "id": "DnzkU6evwH0P",
        "outputId": "5ac3a56e-9457-4d31-818d-c9f1f8b397c2"
      },
      "execution_count": null,
      "outputs": [
        {
          "output_type": "stream",
          "name": "stdout",
          "text": [
            "Berechnete Embeddings für 402 Chunks.\n"
          ]
        }
      ]
    },
    {
      "cell_type": "code",
      "source": [
        "# Embedding Upsert in Pinecone\n",
        "def pinecone_upsert(pc, index_name, embeddings, namespace=\"your-namespace\"):\n",
        "    while not pc.describe_index(index_name).status['ready']:\n",
        "        time.sleep(1)\n",
        "\n",
        "    index = pc.Index(index_name)\n",
        "\n",
        "    # Erstelle eine Liste von Vektorobjekten (mit IDs) für den Upsert in Pinecone\n",
        "    vectors = [\n",
        "        {\"id\": f\"doc_{i}\", \"values\": embedding.tolist()} for i, embedding in enumerate(embeddings)\n",
        "    ]\n",
        "\n",
        "    # Füge die Embeddings (Vektoren) in den Pinecone-Index ein\n",
        "    index.upsert(\n",
        "        vectors=vectors,\n",
        "        namespace=namespace  # Namespace verwenden, wenn nötig\n",
        "    )\n",
        "\n",
        "    print(f\"Erfolgreich {len(vectors)} Vektoren in Pinecone eingefügt.\")\n",
        "\n",
        "pinecone_upsert(pc, index_name, embeddings)"
      ],
      "metadata": {
        "colab": {
          "base_uri": "https://localhost:8080/"
        },
        "id": "n3QrQRtbwsqA",
        "outputId": "dda9bebd-0aa3-4b9d-a290-94e0964815a0"
      },
      "execution_count": null,
      "outputs": [
        {
          "output_type": "stream",
          "name": "stdout",
          "text": [
            "Erfolgreich 402 Vektoren in Pinecone eingefügt.\n"
          ]
        }
      ]
    },
    {
      "cell_type": "markdown",
      "source": [
        "# **Spezifische Datenbank-Abfrage**"
      ],
      "metadata": {
        "id": "HaP0T8_W0e3J"
      }
    },
    {
      "cell_type": "code",
      "source": [
        "def query_pinecone_and_retrieve_chunks(query, tokenizer, model, index, chunks, top_k=5, namespace=\"your-namespace\"):\n",
        "    query_embedding = calculate_embeddings(query, tokenizer, model)\n",
        "\n",
        "    query_results = index.query(\n",
        "        vector=query_embedding.cpu().numpy().tolist()[0],  # Konvertiere das Embedding in eine Liste\n",
        "        top_k=top_k,  # Anzahl der zurückzugebenden ähnlichsten Dokumente\n",
        "        include_values=True,\n",
        "        namespace=namespace\n",
        "    )\n",
        "\n",
        "    matched_chunks = []\n",
        "    for result in query_results['matches']:\n",
        "        doc_id = result['id']\n",
        "        chunk_index = int(doc_id.split(\"_\")[1])  # Annahme: IDs sind im Format \"doc_<chunk_index>\"\n",
        "        matched_chunks.append(chunks[chunk_index].page_content)\n",
        "\n",
        "    def clean_chunk(chunk):\n",
        "        cleaned_text = ' '.join(chunk.split())\n",
        "        return cleaned_text\n",
        "\n",
        "    cleaned_chunks = []\n",
        "    for i, chunk in enumerate(matched_chunks):\n",
        "        cleaned_chunk = clean_chunk(chunk)\n",
        "        cleaned_chunks.append(cleaned_chunk)\n",
        "        print(f\"Chunk {i+1}:\")\n",
        "        print(cleaned_chunk)\n",
        "        print(\"-\" * 50)\n",
        "\n",
        "    return cleaned_chunks\n",
        "\n",
        "query = \"What was Tesla's total revenues in 2023?\"\n",
        "cleaned_chunks = query_pinecone_and_retrieve_chunks(query, tokenizer, model, index, chunks, top_k=5, namespace=\"your-namespace\")\n"
      ],
      "metadata": {
        "colab": {
          "base_uri": "https://localhost:8080/"
        },
        "id": "tyTM2bfD1Dfi",
        "outputId": "a69076b1-1616-4c33-a8ff-accd133f9d90"
      },
      "execution_count": null,
      "outputs": [
        {
          "output_type": "stream",
          "name": "stdout",
          "text": [
            "Chunk 1:\n",
            "Tesla, Inc. Consolidated Statements of Operations (in millions, except per share data) Year Ended December 31, 2023 2022 2021 Revenues Automotive sales $ 78,509 $ 67,210 $ 44,125 Automotive regulatory credits 1,790 1,776 1,465 Automotive leasing 2,120 2,476 1,642 Total automotive revenues 82,419 71,462 47,232 Energy generation and storage 6,035 3,909 2,789 Services and other 8,319 6,091 3,802 Total revenues 96,773 81,462 53,823 Cost of revenues Automotive sales 65,121 49,599\n",
            "--------------------------------------------------\n",
            "Chunk 2:\n",
            "Tesla, Inc. Consolidated Statements of Cash Flows (in millions) Year Ended December 31, 2023 2022 2021 Cash Flows from Operating Activities Net income $ 14,974 $ 12,587 $ 5,644 Adjustments to reconcile net income to net cash provided by operating activities: Depreciation, amortization and impairment 4,667 3,747 2,911 Stock-based compensation 1,812 1,560 2,121 Inventory and purchase commitments write-downs 463 177 140 Foreign currency transaction net unrealized (gain) loss ( 144 ) 81 ( 55 ) Deferred income taxes ( 6,349 ) ( 196 ) ( 149 ) Non-cash interest and other operating activities 81 340\n",
            "--------------------------------------------------\n",
            "Chunk 3:\n",
            "Tesla, Inc. Consolidated Balance Sheets (in millions, except per share data) December 31, 2023 December 31, 2022 Assets Current assets Cash and cash equivalents $ 16,398 $ 16,253 Short-term investments 12,696 5,932 Accounts receivable, net 3,508 2,952 Inventory 13,626 12,839 Prepaid expenses and other current assets 3,388 2,941 Total current assets 49,616 40,917 Operating lease vehicles, net 5,989 5,035 Solar energy systems, net 5,229 5,489 Property, plant and equipment, net 29,725 23,548 Operating lease right-of-use assets 4,180 2,563\n",
            "--------------------------------------------------\n",
            "Chunk 4:\n",
            "2023 2022 2021 $ % $ % Cost of revenues Automotive sales $ 65,121 $ 49,599 $ 32,415 $ 15,522 31 % $ 17,184 53 % Automotive leasing 1,268 1,509 978 (241) (16) % 531 54 % Total automotive cost of revenues 66,389 51,108 33,393 15,281 30 % 17,715 53 % Services and other 7,830 5,880 3,906 1,950 33 % 1,974 51 % Total automotive & services and other segment cost of revenues 74,219 56,988 37,299 17,231 30 % 19,689 53 %\n",
            "--------------------------------------------------\n",
            "Chunk 5:\n",
            "Tesla, Inc. Consolidated Statements of Comprehensive Income (in millions) Year Ended December 31, 2023 2022 2021 Net income $ 14,974 $ 12,587 $ 5,644 Other comprehensive income (loss): Foreign currency translation adjustment 198 ( 392 ) ( 308 ) Unrealized net gain (loss) on investments 16 ( 23 ) ( 1 ) Adjustment for net loss realized and included in net income 4 — — Comprehensive income 15,192 12,172 5,335 Less: Comprehensive (loss) income attributable to noncontrolling interests and redeemable noncontrolling interests in subsidiaries ( 23 ) 31 125 Comprehensive income attributable to common stockholders $ 15,215\n",
            "--------------------------------------------------\n"
          ]
        }
      ]
    },
    {
      "cell_type": "markdown",
      "source": [
        "# **Textgenerierung mit GPT 3.5**"
      ],
      "metadata": {
        "id": "zpIL7vcv5frP"
      }
    },
    {
      "cell_type": "code",
      "source": [
        "def create_prompt(query, context_chunks):\n",
        "    # Struktur des Prompts mit der Anfrage und mehreren Chunks als Kontext\n",
        "    prompt = f\"Question: {query}\\n\\nContext:\\n\"\n",
        "\n",
        "    for i, chunk in enumerate(context_chunks):\n",
        "        prompt += f\"Context Chunk {i+1}:\\n{chunk}\\n\\n\"\n",
        "\n",
        "    prompt += \"Based on the provided context, generate a detailed answer for the question.\"\n",
        "    return prompt\n",
        "\n",
        "cleaned_chunks = [clean_chunk(chunk) for chunk in matched_chunks]\n",
        "prompt = create_prompt(query, cleaned_chunks)\n",
        "print(prompt)"
      ],
      "metadata": {
        "colab": {
          "base_uri": "https://localhost:8080/"
        },
        "id": "i8MoVSJr2579",
        "outputId": "7594e2db-9a7a-4a2f-9d25-a35a0066b337"
      },
      "execution_count": null,
      "outputs": [
        {
          "output_type": "stream",
          "name": "stdout",
          "text": [
            "Question: What was Tesla's total revenues in 2023?\n",
            "\n",
            "Context:\n",
            "Context Chunk 1:\n",
            "Tesla, Inc. Consolidated Statements of Operations (in millions, except per share data) Year Ended December 31, 2023 2022 2021 Revenues Automotive sales $ 78,509 $ 67,210 $ 44,125 Automotive regulatory credits 1,790 1,776 1,465 Automotive leasing 2,120 2,476 1,642 Total automotive revenues 82,419 71,462 47,232 Energy generation and storage 6,035 3,909 2,789 Services and other 8,319 6,091 3,802 Total revenues 96,773 81,462 53,823 Cost of revenues Automotive sales 65,121 49,599\n",
            "\n",
            "Context Chunk 2:\n",
            "Tesla, Inc. Consolidated Statements of Cash Flows (in millions) Year Ended December 31, 2023 2022 2021 Cash Flows from Operating Activities Net income $ 14,974 $ 12,587 $ 5,644 Adjustments to reconcile net income to net cash provided by operating activities: Depreciation, amortization and impairment 4,667 3,747 2,911 Stock-based compensation 1,812 1,560 2,121 Inventory and purchase commitments write-downs 463 177 140 Foreign currency transaction net unrealized (gain) loss ( 144 ) 81 ( 55 ) Deferred income taxes ( 6,349 ) ( 196 ) ( 149 ) Non-cash interest and other operating activities 81 340\n",
            "\n",
            "Context Chunk 3:\n",
            "Tesla, Inc. Consolidated Balance Sheets (in millions, except per share data) December 31, 2023 December 31, 2022 Assets Current assets Cash and cash equivalents $ 16,398 $ 16,253 Short-term investments 12,696 5,932 Accounts receivable, net 3,508 2,952 Inventory 13,626 12,839 Prepaid expenses and other current assets 3,388 2,941 Total current assets 49,616 40,917 Operating lease vehicles, net 5,989 5,035 Solar energy systems, net 5,229 5,489 Property, plant and equipment, net 29,725 23,548 Operating lease right-of-use assets 4,180 2,563\n",
            "\n",
            "Context Chunk 4:\n",
            "Tesla, Inc. Consolidated Statements of Comprehensive Income (in millions) Year Ended December 31, 2023 2022 2021 Net income $ 14,974 $ 12,587 $ 5,644 Other comprehensive income (loss): Foreign currency translation adjustment 198 ( 392 ) ( 308 ) Unrealized net gain (loss) on investments 16 ( 23 ) ( 1 ) Adjustment for net loss realized and included in net income 4 — — Comprehensive income 15,192 12,172 5,335 Less: Comprehensive (loss) income attributable to noncontrolling interests and redeemable noncontrolling interests in subsidiaries ( 23 ) 31 125 Comprehensive income attributable to common stockholders $ 15,215\n",
            "\n",
            "Context Chunk 5:\n",
            "Automotive leasing revenue decreased $356 million, or 14%, in the year ended December 31, 2023 as compared to the year ended December 31, 2022. The decrease was primarily due to a decrease in direct sales-type leasing revenue driven by lower deliveries year over year, partially offset by an increase from our growing direct operating lease portfolio. Services and other revenue increased $2.23 billion, or 37%, in the year ended December 31, 2023 as compared to the year ended December 31, 2022. The increase was primarily due to higher used vehicle revenue driven by increases in volume, body shop and part sales revenue, non-warranty maintenance services revenue, paid Supercharging revenue and insurance services revenue, all of which are primarily attributable to our growing fleet. The increases were partially offset by a decrease in the average selling price of used vehicles. Energy Generation and Storage Segment Energy generation and storage revenue includes sales and leasing of solar energy generation and energy storage products, financing of solar energy generation products, services related to such products and sales of solar energy systems incentives. 2023 compared to 2022 Energy generation and storage revenue increased $2.13 billion, or 54%, in the year ended December 31, 2023 as compared to the year ended December 31, 2022. The increase was primarily due to an increase in deployments of Megapack. Cost of Revenues and Gross Margin Year Ended December 31, 2023 vs. 2022 Change 2022 vs. 2021 Change (Dollars in millions) 2023 2022 2021 $\n",
            "\n",
            "Based on the provided context, generate a detailed answer for the question.\n"
          ]
        }
      ]
    },
    {
      "cell_type": "code",
      "source": [
        "from openai import OpenAI\n",
        "client = OpenAI(api_key='Your-API-Key')\n",
        "\n",
        "completion = client.chat.completions.create(\n",
        "    model=\"gpt-3.5-turbo\",  # oder \"gpt-4\"\n",
        "    messages=[\n",
        "        {\"role\": \"system\", \"content\": \"You are a helpful assistant.\"},\n",
        "        {\"role\": \"user\", \"content\": prompt}\n",
        "    ],\n",
        "    max_tokens=300,  # Maximale Länge der Antwort\n",
        "    temperature=0.7  # Steuert die Kreativität der Antwort\n",
        ")\n",
        "\n",
        "print(completion.choices[0].message.content)"
      ],
      "metadata": {
        "colab": {
          "base_uri": "https://localhost:8080/"
        },
        "id": "XKc_cPMu5ruU",
        "outputId": "03dd99a0-e9b6-4362-ff7c-3477b37cf8de"
      },
      "execution_count": null,
      "outputs": [
        {
          "output_type": "stream",
          "name": "stdout",
          "text": [
            "Tesla's total revenues in 2023 were $96,773 million. This amount includes revenue from automotive sales, automotive regulatory credits, automotive leasing, energy generation and storage, as well as services and other sources. The breakdown of total revenues is as follows:\n",
            "\n",
            "- Automotive sales: $78,509 million\n",
            "- Automotive regulatory credits: $1,790 million\n",
            "- Automotive leasing: $2,120 million\n",
            "- Energy generation and storage: $6,035 million\n",
            "- Services and other: $8,319 million\n",
            "\n",
            "These figures sum up to the total revenue of $96,773 million for Tesla in 2023.\n"
          ]
        }
      ]
    },
    {
      "cell_type": "code",
      "source": [],
      "metadata": {
        "id": "wsXzFs6w5zg4"
      },
      "execution_count": null,
      "outputs": []
    }
  ]
}